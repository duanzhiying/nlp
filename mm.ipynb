{
 "cells": [
  {
   "cell_type": "code",
   "execution_count": 106,
   "metadata": {},
   "outputs": [],
   "source": [
    "import operator\n",
    "import numpy as np"
   ]
  },
  {
   "cell_type": "code",
   "execution_count": 130,
   "metadata": {},
   "outputs": [],
   "source": [
    "class MM(object):\n",
    "    def __init__(self, dict_path):\n",
    "        \"\"\"读取词典文件，并设置最大词条字符数\n",
    "        \n",
    "        Args: \n",
    "            dict_path 词典路径\n",
    "        \"\"\"\n",
    "        self.dictionary = set()\n",
    "        self.maximum = 0\n",
    "        \n",
    "        with open(dict_path, 'r', encoding = 'utf8') as f:\n",
    "            for line in f:\n",
    "                line = line.strip()\n",
    "                if not line:\n",
    "                    continue\n",
    "                self.dictionary.add(line)\n",
    "                if self.maximum < len(line):\n",
    "                    self.maximum = len(line)\n",
    "        \n",
    "        \n",
    "    def rmm_cut(self, text):\n",
    "        \"\"\"对text按照词典按照逆向最大匹配进行分词\n",
    "\n",
    "        Args: \n",
    "            text 待分词的词典\n",
    "        Returns:\n",
    "            分词后的字符串\n",
    "        \"\"\"\n",
    "        result = []\n",
    "        index = len(text)\n",
    "\n",
    "        while index > 0:\n",
    "            word = None\n",
    "            for size in range(self.maximum, 0, -1):\n",
    "                if index - size < 0:\n",
    "                    continue\n",
    "                piece = text[(index - size):index]\n",
    "                if piece in self.dictionary:\n",
    "                    word = piece\n",
    "                    result.append(word)\n",
    "                    index -= size\n",
    "                    break\n",
    "            if word is None:\n",
    "                index -= 1\n",
    "        return result[::-1]\n",
    "       \n",
    "        \n",
    "    def mm_cut(self, text, dictionary=None):\n",
    "        \"\"\"对text按照正向最大匹配进行分词\n",
    "        \"\"\"\n",
    "        if dictionary is None:\n",
    "            dictionary = self.dictionary\n",
    "        \n",
    "        result = []\n",
    "        index = len(text)\n",
    "        start = 0\n",
    "        \n",
    "        while start < index:\n",
    "            word = None\n",
    "            for size in range(self.maximum, 0, -1):\n",
    "                piece = text[start: start + size]\n",
    "                if piece in dictionary:\n",
    "                    word = piece\n",
    "                    result.append(word)\n",
    "                    start = start + size\n",
    "                    break\n",
    "            if word is None:\n",
    "                start = start + 1\n",
    "        return result[::1]\n",
    "    \n",
    "    def reverse_dict(self, result):\n",
    "        \"\"\"对词典逆序\n",
    "        \"\"\"\n",
    "        result_inverse = set()\n",
    "        for value in result:\n",
    "            result_inverse.add(value[::-1])\n",
    "        return result_inverse  \n",
    "        \n",
    "    def rmm_cut_2(self, text):\n",
    "        \"\"\"逆向最大匹配，通过正向来计算\n",
    "        \n",
    "        处理思路：将词逆序，将词典逆序，然后调用正向最大匹配方法\n",
    "        \"\"\"\n",
    "        dictionary_inverse = self.reverse_dict(self.dictionary)\n",
    "        text = text[::-1]\n",
    "        result_inverse = self.mm_cut(text, dictionary_inverse)\n",
    "        # 对结果词对做逆序\n",
    "        result = self.reverse_dict(result_inverse)\n",
    "        return result\n",
    "    \n",
    "    def single_character_quantitiy(self, result_list):\n",
    "        count = 0\n",
    "        for value in result_list:\n",
    "            if len(value) == 1:\n",
    "                count += 1\n",
    "        return count\n",
    "    \n",
    "    def bi_direction_mm(self, text):\n",
    "        \"\"\"双向最大匹配，取正向和逆向匹配结果词对较少的作为结果\n",
    "        \n",
    "        如果正向和逆向的结果词对数不同，返回词对数少的。\n",
    "        如果正向和逆向的结果词对数不同：\n",
    "            如果结果完全一致，则返回任一个；\n",
    "            如果结果不一致，返回单字个数少的。\n",
    "        \"\"\"\n",
    "        \n",
    "        result_mm = self.mm_cut(text)\n",
    "        result_imm = self.rmm_cut_2(text)\n",
    "        \n",
    "        if operator.eq(result_mm, result_imm):\n",
    "            return result_mm\n",
    "        else:\n",
    "            mm_single_count = self.single_character_quantitiy(result_mm)\n",
    "            imm_single_count = self.single_character_quantitiy(result_imm)\n",
    "            \n",
    "            # 取单字最少的\n",
    "            result = result_mm if np.min([mm_single_count, imm_single_count]) == mm_single_count else result_imm\n",
    "            return result\n",
    "        "
   ]
  },
  {
   "cell_type": "code",
   "execution_count": 131,
   "metadata": {},
   "outputs": [],
   "source": [
    "data = './data/imm_dict.data'\n",
    "tokenizer = MM(data)\n",
    "text = \"南京市长江大桥\""
   ]
  },
  {
   "cell_type": "code",
   "execution_count": 132,
   "metadata": {},
   "outputs": [
    {
     "data": {
      "text/plain": [
       "['南京市', '长江大桥']"
      ]
     },
     "execution_count": 132,
     "metadata": {},
     "output_type": "execute_result"
    }
   ],
   "source": [
    "tokenizer.rmm_cut(text)"
   ]
  },
  {
   "cell_type": "code",
   "execution_count": 133,
   "metadata": {},
   "outputs": [
    {
     "data": {
      "text/plain": [
       "['南京市长', '江', '大桥']"
      ]
     },
     "execution_count": 133,
     "metadata": {},
     "output_type": "execute_result"
    }
   ],
   "source": [
    "tokenizer.mm_cut(text)"
   ]
  },
  {
   "cell_type": "code",
   "execution_count": 134,
   "metadata": {},
   "outputs": [
    {
     "data": {
      "text/plain": [
       "{'南京市', '长江大桥'}"
      ]
     },
     "execution_count": 134,
     "metadata": {},
     "output_type": "execute_result"
    }
   ],
   "source": [
    "tokenizer.rmm_cut_2(text)"
   ]
  },
  {
   "cell_type": "code",
   "execution_count": 135,
   "metadata": {},
   "outputs": [
    {
     "data": {
      "text/plain": [
       "{'南京市', '长江大桥'}"
      ]
     },
     "execution_count": 135,
     "metadata": {},
     "output_type": "execute_result"
    }
   ],
   "source": [
    "tokenizer.bi_direction_mm(text)"
   ]
  }
 ],
 "metadata": {
  "kernelspec": {
   "display_name": "Python 3",
   "language": "python",
   "name": "python3"
  },
  "language_info": {
   "codemirror_mode": {
    "name": "ipython",
    "version": 3
   },
   "file_extension": ".py",
   "mimetype": "text/x-python",
   "name": "python",
   "nbconvert_exporter": "python",
   "pygments_lexer": "ipython3",
   "version": "3.6.8"
  },
  "toc": {
   "base_numbering": 1,
   "nav_menu": {},
   "number_sections": true,
   "sideBar": true,
   "skip_h1_title": false,
   "title_cell": "Table of Contents",
   "title_sidebar": "Contents",
   "toc_cell": false,
   "toc_position": {},
   "toc_section_display": true,
   "toc_window_display": false
  }
 },
 "nbformat": 4,
 "nbformat_minor": 2
}
