{
 "cells": [
  {
   "cell_type": "code",
   "execution_count": 1,
   "metadata": {},
   "outputs": [],
   "source": [
    "import re"
   ]
  },
  {
   "cell_type": "markdown",
   "metadata": {},
   "source": [
    "```python\n",
    "re.search(regex, string) # 检查string字符串是否匹配正则表达式regex\n",
    "```"
   ]
  },
  {
   "cell_type": "code",
   "execution_count": 4,
   "metadata": {},
   "outputs": [
    {
     "name": "stdout",
     "output_type": "stream",
     "text": [
      "<_sre.SRE_Match object; span=(12, 17), match='瑞雪兆丰年'>\n"
     ]
    }
   ],
   "source": [
    "str = \"这是一条测试文本，by 瑞雪兆丰年\"\n",
    "result = re.search(\"瑞雪兆丰年\", str)\n",
    "print(result)"
   ]
  },
  {
   "cell_type": "markdown",
   "metadata": {},
   "source": [
    "> 正则表达式"
   ]
  },
  {
   "cell_type": "markdown",
   "metadata": {},
   "source": [
    "| 符号        | 含义   |  示例  | \n",
    "| --------   | -----:  | :----  |\n",
    "| .     | 匹配任意一个字符，但是换行除外 |   \"a.c\" 可以匹配 abc、anchive等|\n",
    "| ^     |   匹配开始的字符串| \"^a\" 匹配以字母a开头的字符串| \n",
    "| \\\\$     |   匹配结尾的字符串| \"a\\\\$\" 匹配所有以字母a结尾的字符串| \n",
    "| []| 匹配中括号中的任意一个字符 | \"[你我他]们\" 可以匹配 你们、我们、他们|\n",
    "|{n}| 表示重复次数，重复了n次 | \"[0-9]{3}\" 表示：[0-9][0-9][0-9],匹配字符范围：000-999 |"
   ]
  },
  {
   "cell_type": "code",
   "execution_count": 7,
   "metadata": {},
   "outputs": [
    {
     "data": {
      "text/plain": [
       "<_sre.SRE_Match object; span=(0, 1), match='这'>"
      ]
     },
     "execution_count": 7,
     "metadata": {},
     "output_type": "execute_result"
    }
   ],
   "source": [
    "result = re.search(\"^这\", str)\n",
    "result"
   ]
  },
  {
   "cell_type": "code",
   "execution_count": 11,
   "metadata": {},
   "outputs": [
    {
     "name": "stdout",
     "output_type": "stream",
     "text": [
      "<_sre.SRE_Match object; span=(3, 5), match='我们'>\n",
      "<_sre.SRE_Match object; span=(2, 4), match='他们'>\n",
      "<_sre.SRE_Match object; span=(2, 4), match='你们'>\n"
     ]
    }
   ],
   "source": [
    "str = \"今天是我们非常高兴的一天，因为他们热情的招待了我们，但是你们却不在\"\n",
    "for line in str.split('，'):\n",
    "    result = re.search(\"[你我他]们\", line)\n",
    "    print(result)"
   ]
  },
  {
   "cell_type": "code",
   "execution_count": 12,
   "metadata": {},
   "outputs": [
    {
     "name": "stdout",
     "output_type": "stream",
     "text": [
      "['我们', '他们', '我们', '你们']\n"
     ]
    }
   ],
   "source": [
    "result = re.findall(\"[你我他]们\", str)\n",
    "print(result)"
   ]
  },
  {
   "cell_type": "markdown",
   "metadata": {},
   "source": [
    "> 转义字符"
   ]
  },
  {
   "cell_type": "markdown",
   "metadata": {},
   "source": [
    "正则表表达式中使用“\\”作为转义字符，若要匹配“\\”则表示为“\\\\\\\\”，python原生字符串也可表示为**r“\\\\”**，这样更直观"
   ]
  },
  {
   "cell_type": "code",
   "execution_count": null,
   "metadata": {},
   "outputs": [],
   "source": []
  }
 ],
 "metadata": {
  "kernelspec": {
   "display_name": "Python 3",
   "language": "python",
   "name": "python3"
  },
  "language_info": {
   "codemirror_mode": {
    "name": "ipython",
    "version": 3
   },
   "file_extension": ".py",
   "mimetype": "text/x-python",
   "name": "python",
   "nbconvert_exporter": "python",
   "pygments_lexer": "ipython3",
   "version": "3.6.4"
  },
  "toc": {
   "base_numbering": 1,
   "nav_menu": {},
   "number_sections": true,
   "sideBar": true,
   "skip_h1_title": false,
   "title_cell": "Table of Contents",
   "title_sidebar": "Contents",
   "toc_cell": false,
   "toc_position": {},
   "toc_section_display": true,
   "toc_window_display": false
  }
 },
 "nbformat": 4,
 "nbformat_minor": 2
}
